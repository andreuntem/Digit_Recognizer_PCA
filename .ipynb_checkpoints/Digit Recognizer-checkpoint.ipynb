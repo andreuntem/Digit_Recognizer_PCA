{
 "cells": [
  {
   "cell_type": "markdown",
   "metadata": {},
   "source": [
    "### Import Libraries"
   ]
  },
  {
   "cell_type": "code",
   "execution_count": 1,
   "metadata": {},
   "outputs": [],
   "source": [
    "import numpy as np\n",
    "import pandas as pd\n",
    "import matplotlib.pyplot as plt\n",
    "from sklearn.model_selection import train_test_split\n",
    "from sklearn.decomposition import PCA\n",
    "from sklearn.preprocessing import StandardScaler\n",
    "from sklearn.neighbors import KNeighborsClassifier\n",
    "from sklearn.metrics import accuracy_score"
   ]
  },
  {
   "cell_type": "markdown",
   "metadata": {},
   "source": [
    "### Import datasets: training and test"
   ]
  },
  {
   "cell_type": "code",
   "execution_count": 2,
   "metadata": {},
   "outputs": [
    {
     "data": {
      "text/plain": [
       "(42000, 785)"
      ]
     },
     "execution_count": 2,
     "metadata": {},
     "output_type": "execute_result"
    }
   ],
   "source": [
    "file_train = 'train.csv'\n",
    "df_train = pd.read_csv(file_train)\n",
    "df_train.shape"
   ]
  },
  {
   "cell_type": "code",
   "execution_count": 3,
   "metadata": {},
   "outputs": [
    {
     "data": {
      "text/plain": [
       "(28000, 784)"
      ]
     },
     "execution_count": 3,
     "metadata": {},
     "output_type": "execute_result"
    }
   ],
   "source": [
    "file_test = 'test.csv'\n",
    "df_test = pd.read_csv(file_test)\n",
    "df_test.shape"
   ]
  },
  {
   "cell_type": "markdown",
   "metadata": {},
   "source": [
    "### Standardize: Training and Test Set"
   ]
  },
  {
   "cell_type": "code",
   "execution_count": 4,
   "metadata": {},
   "outputs": [],
   "source": [
    "X_training_set, y_training_set = df_train.drop('label', axis=1), df_train['label']\n",
    "scaler = StandardScaler()\n",
    "Xstd_train = scaler.fit_transform(X_training_set)"
   ]
  },
  {
   "cell_type": "code",
   "execution_count": 5,
   "metadata": {},
   "outputs": [],
   "source": [
    "X_test_set = df_test\n",
    "Xstd_test = (X_test_set - scaler.mean_)/scaler.scale_\n",
    "Xstd_test = Xstd_test.replace(np.nan, 0)"
   ]
  },
  {
   "cell_type": "markdown",
   "metadata": {},
   "source": [
    "### Split training set into: train and test"
   ]
  },
  {
   "cell_type": "code",
   "execution_count": 6,
   "metadata": {},
   "outputs": [],
   "source": [
    "X_train, X_test, y_train, y_test = train_test_split(Xstd_train, y_training_set, test_size=.25, random_state=1)"
   ]
  },
  {
   "cell_type": "markdown",
   "metadata": {},
   "source": [
    "### Check optimum number of dimensions"
   ]
  },
  {
   "cell_type": "code",
   "execution_count": 13,
   "metadata": {},
   "outputs": [],
   "source": [
    "n_neighbors = 3\n",
    "m_vec = [1, 5, 10, 50]\n",
    "neigh = KNeighborsClassifier(n_neighbors)"
   ]
  },
  {
   "cell_type": "code",
   "execution_count": 14,
   "metadata": {},
   "outputs": [
    {
     "name": "stdout",
     "output_type": "stream",
     "text": [
      "m: 1   .... acc: 0.247\n",
      "m: 5   .... acc: 0.724\n",
      "m: 10  .... acc: 0.900\n",
      "m: 50  .... acc: 0.953\n"
     ]
    }
   ],
   "source": [
    "accuracy = []\n",
    "for m in m_vec:\n",
    "    \n",
    "    print('m: {:<3}'.format(m), end=' ')\n",
    "    \n",
    "    # Run PCA for m dimensions\n",
    "    pca = PCA(n_components=m)\n",
    "    pca.fit(X_train)\n",
    "    print('.', end='')\n",
    "    \n",
    "    # Training set: reduce and train KNN\n",
    "    Xred_train = np.dot(X_train, pca.components_.T)\n",
    "    neigh.fit(Xred_train, y_train)\n",
    "    print('.', end='')\n",
    "    \n",
    "    # Test set: reduce dimensions and predict\n",
    "    Xred_test = np.dot(X_test, pca.components_.T)\n",
    "    y_pred = neigh.predict(Xred_test)\n",
    "    print('.', end='')\n",
    "    \n",
    "    # Calculate accuracy of model\n",
    "    acc = accuracy_score(y_test, y_pred)\n",
    "    accuracy.append(acc)\n",
    "    print('. acc: {:.3f}'.format(acc), end='\\n')\n",
    "    \n",
    "    # delete pca object\n",
    "    del pca\n",
    "    \n"
   ]
  },
  {
   "cell_type": "markdown",
   "metadata": {},
   "source": [
    "### Calculate y for final test submission"
   ]
  },
  {
   "cell_type": "code",
   "execution_count": 15,
   "metadata": {},
   "outputs": [],
   "source": [
    "m = 10"
   ]
  },
  {
   "cell_type": "code",
   "execution_count": 16,
   "metadata": {},
   "outputs": [],
   "source": [
    "pca = PCA(n_components=m)\n",
    "pca.fit(X_train)\n",
    "\n",
    "# Training set: reduce and train KNN\n",
    "Xred_train = np.dot(X_train, pca.components_.T)\n",
    "neigh.fit(Xred_train, y_train)\n",
    "\n",
    "# Test set: reduce dimensions and predict\n",
    "Xred_test = np.dot(Xstd_test, pca.components_.T)\n",
    "y_pred = neigh.predict(Xred_test)"
   ]
  },
  {
   "cell_type": "code",
   "execution_count": 36,
   "metadata": {},
   "outputs": [
    {
     "data": {
      "image/png": "[encoded data removed]",
      "text/plain": [
       "<Figure size 432x288 with 1 Axes>"
      ]
     },
     "metadata": {
      "needs_background": "light"
     },
     "output_type": "display_data"
    }
   ],
   "source": [
    "n = 1980\n",
    "\n",
    "plt.imshow(X_test_set.values[n].reshape((28,28)))\n",
    "plt.title('Prediction: {}'.format(y_pred[n]))\n",
    "plt.show()"
   ]
  },
  {
   "cell_type": "code",
   "execution_count": 45,
   "metadata": {},
   "outputs": [],
   "source": [
    "df_test['Label'] = y_pred\n",
    "df_test.index.name = 'ImageId'"
   ]
  },
  {
   "cell_type": "code",
   "execution_count": 46,
   "metadata": {},
   "outputs": [],
   "source": [
    "file = 'm_10_knn_3.csv'\n",
    "df_test[['Label']].to_csv(file)"
   ]
  },
  {
   "cell_type": "code",
   "execution_count": null,
   "metadata": {},
   "outputs": [],
   "source": []
  }
 ],
 "metadata": {
  "kernelspec": {
   "display_name": "Python 3",
   "language": "python",
   "name": "python3"
  },
  "language_info": {
   "codemirror_mode": {
    "name": "ipython",
    "version": 3
   },
   "file_extension": ".py",
   "mimetype": "text/x-python",
   "name": "python",
   "nbconvert_exporter": "python",
   "pygments_lexer": "ipython3",
   "version": "3.7.3"
  }
 },
 "nbformat": 4,
 "nbformat_minor": 2
}
